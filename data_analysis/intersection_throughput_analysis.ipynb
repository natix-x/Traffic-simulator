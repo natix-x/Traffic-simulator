{
 "cells": [
  {
   "cell_type": "code",
   "execution_count": 2,
   "id": "initial_id",
   "metadata": {
    "collapsed": true,
    "ExecuteTime": {
     "end_time": "2025-06-07T12:08:18.188356300Z",
     "start_time": "2025-06-07T12:08:18.157958500Z"
    }
   },
   "outputs": [],
   "source": [
    "import pandas as pd\n",
    "from load_csv import *"
   ]
  },
  {
   "cell_type": "markdown",
   "source": [
    "# Intersection throughput analysis"
   ],
   "metadata": {
    "collapsed": false
   },
   "id": "3c7598a990d4ea9e"
  },
  {
   "cell_type": "code",
   "execution_count": null,
   "outputs": [],
   "source": [],
   "metadata": {
    "collapsed": false
   },
   "id": "53200334cca5def7"
  }
 ],
 "metadata": {
  "kernelspec": {
   "display_name": "Python 3",
   "language": "python",
   "name": "python3"
  },
  "language_info": {
   "codemirror_mode": {
    "name": "ipython",
    "version": 2
   },
   "file_extension": ".py",
   "mimetype": "text/x-python",
   "name": "python",
   "nbconvert_exporter": "python",
   "pygments_lexer": "ipython2",
   "version": "2.7.6"
  }
 },
 "nbformat": 4,
 "nbformat_minor": 5
}
